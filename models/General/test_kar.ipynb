{
 "cells": [
  {
   "cell_type": "code",
   "execution_count": 1,
   "metadata": {},
   "outputs": [],
   "source": [
    "import torch\n",
    "import torch.nn as nn\n",
    "import torch.nn.functional as F"
   ]
  },
  {
   "cell_type": "code",
   "execution_count": 2,
   "metadata": {},
   "outputs": [],
   "source": [
    "class MLP(nn.Module):\n",
    "    \"\"\"\n",
    "    Multi-layer Perceptron\n",
    "    \"\"\"\n",
    "    def __init__(self, fc_dims, input_dim, dropout):\n",
    "        super(MLP, self).__init__()\n",
    "        fc_layers = []\n",
    "        for fc_dim in fc_dims:\n",
    "            fc_layers.append(nn.Linear(input_dim, fc_dim))\n",
    "            fc_layers.append(nn.ReLU())\n",
    "            fc_layers.append(nn.Dropout(p=dropout))\n",
    "            input_dim = fc_dim\n",
    "        self.fc = nn.Sequential(*fc_layers)\n",
    "\n",
    "    def forward(self, x):\n",
    "        return self.fc(x)"
   ]
  },
  {
   "cell_type": "code",
   "execution_count": 5,
   "metadata": {},
   "outputs": [
    {
     "name": "stdout",
     "output_type": "stream",
     "text": [
      "torch.Size([64, 256])\n"
     ]
    }
   ],
   "source": [
    "mlp = MLP([256, 256], 128, 0.5)\n",
    "x = torch.randn(64, 128)\n",
    "output = mlp(x)\n",
    "print(output.size()) # torch.Size([64, 256])"
   ]
  },
  {
   "cell_type": "code",
   "execution_count": 3,
   "metadata": {},
   "outputs": [],
   "source": [
    "class MoE(nn.Module):\n",
    "    \"\"\"\n",
    "    Mixture of Export\n",
    "    \"\"\"\n",
    "    def __init__(self, moe_arch, inp_dim, dropout):\n",
    "        super(MoE, self).__init__()\n",
    "        export_num, export_arch = moe_arch\n",
    "        self.export_num = export_num\n",
    "        self.gate_net = nn.Linear(inp_dim, export_num)\n",
    "        self.export_net = nn.ModuleList([MLP(export_arch, inp_dim, dropout) for _ in range(export_num)])\n",
    "\n",
    "    def forward(self, x):\n",
    "        gate = self.gate_net(x).view(-1, self.export_num)  # (bs, export_num)\n",
    "        gate = nn.functional.softmax(gate, dim=-1).unsqueeze(dim=1) # (bs, 1, export_num)\n",
    "        experts = [net(x) for net in self.export_net]\n",
    "        experts = torch.stack(experts, dim=1)  # (bs, expert_num, emb)\n",
    "        out = torch.matmul(gate, experts).squeeze(dim=1)\n",
    "        return out"
   ]
  },
  {
   "cell_type": "code",
   "execution_count": 7,
   "metadata": {},
   "outputs": [
    {
     "name": "stdout",
     "output_type": "stream",
     "text": [
      "torch.Size([64, 256])\n"
     ]
    }
   ],
   "source": [
    "moe = MoE((4, [256, 256]), 128, 0.5)\n",
    "x = torch.randn(64, 128)\n",
    "output = moe(x)\n",
    "print(output.size()) # torch.Size([64, 256])"
   ]
  }
 ],
 "metadata": {
  "kernelspec": {
   "display_name": "sandbox",
   "language": "python",
   "name": "python3"
  },
  "language_info": {
   "codemirror_mode": {
    "name": "ipython",
    "version": 3
   },
   "file_extension": ".py",
   "mimetype": "text/x-python",
   "name": "python",
   "nbconvert_exporter": "python",
   "pygments_lexer": "ipython3",
   "version": "3.9.12"
  }
 },
 "nbformat": 4,
 "nbformat_minor": 2
}
