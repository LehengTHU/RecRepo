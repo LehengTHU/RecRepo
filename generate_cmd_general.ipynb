{
 "cells": [
  {
   "cell_type": "markdown",
   "metadata": {},
   "source": [
    "## InfoNCE"
   ]
  },
  {
   "cell_type": "code",
   "execution_count": 1,
   "metadata": {},
   "outputs": [
    {
     "name": "stdout",
     "output_type": "stream",
     "text": [
      "nohup python main.py --rs_type General --clear_checkpoints --saveID <save_id> --dataset <dataset_name> --model_name <model_name> --n_layers <n_layer> --patience 20 --cuda <gpu> --no_wandb --train_norm --pred_norm --neg_sample 256 --tau <tau> --infonce 1 &>logs/<log_name>.log &\n"
     ]
    }
   ],
   "source": [
    "prompt = (\"nohup python main.py --rs_type General --clear_checkpoints \"\n",
    "+ \"--saveID <save_id> --dataset <dataset_name> --model_name <model_name> \"\n",
    "+ \"--n_layers <n_layer> --patience 20 --cuda <gpu> --no_wandb --train_norm --pred_norm --neg_sample 256 \"\n",
    "+ \"--tau <tau> --infonce 1 &>logs/<log_name>.log &\")\n",
    "\n",
    "print(prompt)"
   ]
  },
  {
   "cell_type": "code",
   "execution_count": 2,
   "metadata": {},
   "outputs": [
    {
     "name": "stdout",
     "output_type": "stream",
     "text": [
      "tau: 0.1\n",
      "nohup python main.py --rs_type General --clear_checkpoints --saveID tau_0.1 --dataset ml-1m --model_name InfoNCE --n_layers 2 --patience 20 --cuda 0 --no_wandb --train_norm --pred_norm --neg_sample 256 --tau 0.1 --infonce 1 &>logs/ml-1m_tau_0.1_InfoNCE.log &\n",
      "tau: 0.15\n",
      "nohup python main.py --rs_type General --clear_checkpoints --saveID tau_0.15 --dataset ml-1m --model_name InfoNCE --n_layers 2 --patience 20 --cuda 1 --no_wandb --train_norm --pred_norm --neg_sample 256 --tau 0.15 --infonce 1 &>logs/ml-1m_tau_0.15_InfoNCE.log &\n",
      "tau: 0.2\n",
      "nohup python main.py --rs_type General --clear_checkpoints --saveID tau_0.2 --dataset ml-1m --model_name InfoNCE --n_layers 2 --patience 20 --cuda 2 --no_wandb --train_norm --pred_norm --neg_sample 256 --tau 0.2 --infonce 1 &>logs/ml-1m_tau_0.2_InfoNCE.log &\n",
      "tau: 0.3\n",
      "nohup python main.py --rs_type General --clear_checkpoints --saveID tau_0.3 --dataset ml-1m --model_name InfoNCE --n_layers 2 --patience 20 --cuda 3 --no_wandb --train_norm --pred_norm --neg_sample 256 --tau 0.3 --infonce 1 &>logs/ml-1m_tau_0.3_InfoNCE.log &\n",
      "tau: 0.05\n",
      "nohup python main.py --rs_type General --clear_checkpoints --saveID tau_0.05 --dataset amazon_movie --model_name InfoNCE --n_layers 2 --patience 20 --cuda 0 --no_wandb --train_norm --pred_norm --neg_sample 256 --tau 0.05 --infonce 1 &>logs/amazon_movie_tau_0.05_InfoNCE.log &\n",
      "tau: 0.11\n",
      "nohup python main.py --rs_type General --clear_checkpoints --saveID tau_0.11 --dataset amazon_movie --model_name InfoNCE --n_layers 2 --patience 20 --cuda 1 --no_wandb --train_norm --pred_norm --neg_sample 256 --tau 0.11 --infonce 1 &>logs/amazon_movie_tau_0.11_InfoNCE.log &\n",
      "tau: 0.15\n",
      "nohup python main.py --rs_type General --clear_checkpoints --saveID tau_0.15 --dataset amazon_movie --model_name InfoNCE --n_layers 2 --patience 20 --cuda 2 --no_wandb --train_norm --pred_norm --neg_sample 256 --tau 0.15 --infonce 1 &>logs/amazon_movie_tau_0.15_InfoNCE.log &\n",
      "tau: 0.2\n",
      "nohup python main.py --rs_type General --clear_checkpoints --saveID tau_0.2 --dataset amazon_movie --model_name InfoNCE --n_layers 2 --patience 20 --cuda 3 --no_wandb --train_norm --pred_norm --neg_sample 256 --tau 0.2 --infonce 1 &>logs/amazon_movie_tau_0.2_InfoNCE.log &\n",
      "tau: 0.05\n",
      "nohup python main.py --rs_type General --clear_checkpoints --saveID tau_0.05 --dataset steam --model_name InfoNCE --n_layers 2 --patience 20 --cuda 0 --no_wandb --train_norm --pred_norm --neg_sample 256 --tau 0.05 --infonce 1 &>logs/steam_tau_0.05_InfoNCE.log &\n",
      "tau: 0.1\n",
      "nohup python main.py --rs_type General --clear_checkpoints --saveID tau_0.1 --dataset steam --model_name InfoNCE --n_layers 2 --patience 20 --cuda 1 --no_wandb --train_norm --pred_norm --neg_sample 256 --tau 0.1 --infonce 1 &>logs/steam_tau_0.1_InfoNCE.log &\n",
      "tau: 0.15\n",
      "nohup python main.py --rs_type General --clear_checkpoints --saveID tau_0.15 --dataset steam --model_name InfoNCE --n_layers 2 --patience 20 --cuda 2 --no_wandb --train_norm --pred_norm --neg_sample 256 --tau 0.15 --infonce 1 &>logs/steam_tau_0.15_InfoNCE.log &\n",
      "tau: 0.2\n",
      "nohup python main.py --rs_type General --clear_checkpoints --saveID tau_0.2 --dataset steam --model_name InfoNCE --n_layers 2 --patience 20 --cuda 3 --no_wandb --train_norm --pred_norm --neg_sample 256 --tau 0.2 --infonce 1 &>logs/steam_tau_0.2_InfoNCE.log &\n",
      "tau: 0.05\n",
      "nohup python main.py --rs_type General --clear_checkpoints --saveID tau_0.05 --dataset mix_movie_book --model_name InfoNCE --n_layers 2 --patience 20 --cuda 0 --no_wandb --train_norm --pred_norm --neg_sample 256 --tau 0.05 --infonce 1 &>logs/mix_movie_book_tau_0.05_InfoNCE.log &\n",
      "tau: 0.1\n",
      "nohup python main.py --rs_type General --clear_checkpoints --saveID tau_0.1 --dataset mix_movie_book --model_name InfoNCE --n_layers 2 --patience 20 --cuda 1 --no_wandb --train_norm --pred_norm --neg_sample 256 --tau 0.1 --infonce 1 &>logs/mix_movie_book_tau_0.1_InfoNCE.log &\n",
      "tau: 0.15\n",
      "nohup python main.py --rs_type General --clear_checkpoints --saveID tau_0.15 --dataset mix_movie_book --model_name InfoNCE --n_layers 2 --patience 20 --cuda 2 --no_wandb --train_norm --pred_norm --neg_sample 256 --tau 0.15 --infonce 1 &>logs/mix_movie_book_tau_0.15_InfoNCE.log &\n",
      "tau: 0.2\n",
      "nohup python main.py --rs_type General --clear_checkpoints --saveID tau_0.2 --dataset mix_movie_book --model_name InfoNCE --n_layers 2 --patience 20 --cuda 3 --no_wandb --train_norm --pred_norm --neg_sample 256 --tau 0.2 --infonce 1 &>logs/mix_movie_book_tau_0.2_InfoNCE.log &\n"
     ]
    }
   ],
   "source": [
    "# cmds = []\n",
    "\n",
    "# dataset_list = ['ml-1m', 'amazon_book_2014', 'steam', 'mix_movie_book']\n",
    "dataset_list = ['ml-1m', 'amazon_movie', 'steam', 'mix_movie_book']\n",
    "# tau_list_ml1m = [0.17, 0.19, 0.21, 0.23]\n",
    "tau_list_ml1m = [0.10, 0.15, 0.2, 0.3]\n",
    "# tau_list_amazon = [0.09, 0.11, 0.12, 0.14]\n",
    "tau_list_amazon = [0.05, 0.11, 0.15, 0.2]\n",
    "tau_list_steam = [0.05, 0.1, 0.15, 0.2]\n",
    "tau_list_mix = [0.05, 0.1, 0.15, 0.2]\n",
    "\n",
    "tau_list = [tau_list_ml1m, tau_list_amazon, tau_list_steam, tau_list_mix]\n",
    "# model_name = 'AgentRerank_uni'\n",
    "model_name = 'InfoNCE'\n",
    "\n",
    "c = 0\n",
    "n_layer = 2\n",
    "for idx, dataset in enumerate(dataset_list):\n",
    "    tau_list_ = tau_list[idx]\n",
    "    cmds = []\n",
    "    for tau in tau_list_:\n",
    "        print('tau:', tau)\n",
    "        save_id = 'tau_' + str(tau)\n",
    "        log_name = dataset + '_' + save_id + '_' + model_name\n",
    "        filled_prompt = prompt.replace('<model_name>', model_name)\n",
    "        filled_prompt = filled_prompt.replace('<dataset_name>', dataset)\n",
    "        filled_prompt = filled_prompt.replace('<gpu>', str(c))\n",
    "        filled_prompt = filled_prompt.replace('<tau>', str(tau))\n",
    "        filled_prompt = filled_prompt.replace('<save_id>', save_id)\n",
    "        filled_prompt = filled_prompt.replace('<log_name>', log_name)\n",
    "        filled_prompt = filled_prompt.replace('<n_layer>', str(n_layer))\n",
    "        print(filled_prompt)\n",
    "        cmds.append(filled_prompt)\n",
    "        c += 1\n",
    "        c %= 4\n",
    "        with open(f\"training_cmd_{dataset}_{model_name}_n_{n_layer}.sh\", \"w\") as f:\n",
    "            for cmd in cmds:\n",
    "                f.write(cmd + \"\\n\")\n",
    "\n"
   ]
  },
  {
   "cell_type": "markdown",
   "metadata": {},
   "source": [
    "## LCF"
   ]
  },
  {
   "cell_type": "code",
   "execution_count": 1,
   "metadata": {},
   "outputs": [
    {
     "name": "stdout",
     "output_type": "stream",
     "text": [
      "nohup python main.py --rs_type General --clear_checkpoints --saveID <save_id> --dataset <dataset_name> --model_name <model_name> --n_layers <n_layer> --patience 20 --cuda <gpu> --no_wandb --train_norm --pred_norm --neg_sample 256 --tau <tau> --infonce 1 &>logs/<log_name>.log &\n"
     ]
    }
   ],
   "source": [
    "prompt = (\"nohup python main.py --rs_type General --clear_checkpoints \"\n",
    "+ \"--saveID <save_id> --dataset <dataset_name> --model_name <model_name> \"\n",
    "+ \"--n_layers <n_layer> --patience 20 --cuda <gpu> --no_wandb --train_norm --pred_norm --neg_sample 256 \"\n",
    "+ \"--tau <tau> --infonce 1 &>logs/<log_name>.log &\")\n",
    "\n",
    "print(prompt)"
   ]
  },
  {
   "cell_type": "code",
   "execution_count": 2,
   "metadata": {},
   "outputs": [
    {
     "name": "stdout",
     "output_type": "stream",
     "text": [
      "tau: 0.1\n",
      "nohup python main.py --rs_type General --clear_checkpoints --saveID tau_0.1 --dataset ml-1m --model_name IntentCF --n_layers 2 --patience 20 --cuda 0 --no_wandb --train_norm --pred_norm --neg_sample 256 --tau 0.1 --infonce 1 &>logs/ml-1m_tau_0.1_IntentCF.log &\n",
      "tau: 0.15\n",
      "nohup python main.py --rs_type General --clear_checkpoints --saveID tau_0.15 --dataset ml-1m --model_name IntentCF --n_layers 2 --patience 20 --cuda 1 --no_wandb --train_norm --pred_norm --neg_sample 256 --tau 0.15 --infonce 1 &>logs/ml-1m_tau_0.15_IntentCF.log &\n",
      "tau: 0.2\n",
      "nohup python main.py --rs_type General --clear_checkpoints --saveID tau_0.2 --dataset ml-1m --model_name IntentCF --n_layers 2 --patience 20 --cuda 2 --no_wandb --train_norm --pred_norm --neg_sample 256 --tau 0.2 --infonce 1 &>logs/ml-1m_tau_0.2_IntentCF.log &\n",
      "tau: 0.3\n",
      "nohup python main.py --rs_type General --clear_checkpoints --saveID tau_0.3 --dataset ml-1m --model_name IntentCF --n_layers 2 --patience 20 --cuda 3 --no_wandb --train_norm --pred_norm --neg_sample 256 --tau 0.3 --infonce 1 &>logs/ml-1m_tau_0.3_IntentCF.log &\n",
      "tau: 0.05\n",
      "nohup python main.py --rs_type General --clear_checkpoints --saveID tau_0.05 --dataset amazon_movie --model_name IntentCF --n_layers 2 --patience 20 --cuda 0 --no_wandb --train_norm --pred_norm --neg_sample 256 --tau 0.05 --infonce 1 &>logs/amazon_movie_tau_0.05_IntentCF.log &\n",
      "tau: 0.11\n",
      "nohup python main.py --rs_type General --clear_checkpoints --saveID tau_0.11 --dataset amazon_movie --model_name IntentCF --n_layers 2 --patience 20 --cuda 1 --no_wandb --train_norm --pred_norm --neg_sample 256 --tau 0.11 --infonce 1 &>logs/amazon_movie_tau_0.11_IntentCF.log &\n",
      "tau: 0.15\n",
      "nohup python main.py --rs_type General --clear_checkpoints --saveID tau_0.15 --dataset amazon_movie --model_name IntentCF --n_layers 2 --patience 20 --cuda 2 --no_wandb --train_norm --pred_norm --neg_sample 256 --tau 0.15 --infonce 1 &>logs/amazon_movie_tau_0.15_IntentCF.log &\n",
      "tau: 0.2\n",
      "nohup python main.py --rs_type General --clear_checkpoints --saveID tau_0.2 --dataset amazon_movie --model_name IntentCF --n_layers 2 --patience 20 --cuda 3 --no_wandb --train_norm --pred_norm --neg_sample 256 --tau 0.2 --infonce 1 &>logs/amazon_movie_tau_0.2_IntentCF.log &\n",
      "tau: 0.17\n",
      "nohup python main.py --rs_type General --clear_checkpoints --saveID tau_0.17 --dataset steam --model_name IntentCF --n_layers 2 --patience 20 --cuda 0 --no_wandb --train_norm --pred_norm --neg_sample 256 --tau 0.17 --infonce 1 &>logs/steam_tau_0.17_IntentCF.log &\n",
      "tau: 0.19\n",
      "nohup python main.py --rs_type General --clear_checkpoints --saveID tau_0.19 --dataset steam --model_name IntentCF --n_layers 2 --patience 20 --cuda 1 --no_wandb --train_norm --pred_norm --neg_sample 256 --tau 0.19 --infonce 1 &>logs/steam_tau_0.19_IntentCF.log &\n",
      "tau: 0.21\n",
      "nohup python main.py --rs_type General --clear_checkpoints --saveID tau_0.21 --dataset steam --model_name IntentCF --n_layers 2 --patience 20 --cuda 2 --no_wandb --train_norm --pred_norm --neg_sample 256 --tau 0.21 --infonce 1 &>logs/steam_tau_0.21_IntentCF.log &\n",
      "tau: 0.23\n",
      "nohup python main.py --rs_type General --clear_checkpoints --saveID tau_0.23 --dataset steam --model_name IntentCF --n_layers 2 --patience 20 --cuda 3 --no_wandb --train_norm --pred_norm --neg_sample 256 --tau 0.23 --infonce 1 &>logs/steam_tau_0.23_IntentCF.log &\n",
      "tau: 0.05\n",
      "nohup python main.py --rs_type General --clear_checkpoints --saveID tau_0.05 --dataset mix_movie_book --model_name IntentCF --n_layers 2 --patience 20 --cuda 0 --no_wandb --train_norm --pred_norm --neg_sample 256 --tau 0.05 --infonce 1 &>logs/mix_movie_book_tau_0.05_IntentCF.log &\n",
      "tau: 0.1\n",
      "nohup python main.py --rs_type General --clear_checkpoints --saveID tau_0.1 --dataset mix_movie_book --model_name IntentCF --n_layers 2 --patience 20 --cuda 1 --no_wandb --train_norm --pred_norm --neg_sample 256 --tau 0.1 --infonce 1 &>logs/mix_movie_book_tau_0.1_IntentCF.log &\n",
      "tau: 0.15\n",
      "nohup python main.py --rs_type General --clear_checkpoints --saveID tau_0.15 --dataset mix_movie_book --model_name IntentCF --n_layers 2 --patience 20 --cuda 2 --no_wandb --train_norm --pred_norm --neg_sample 256 --tau 0.15 --infonce 1 &>logs/mix_movie_book_tau_0.15_IntentCF.log &\n",
      "tau: 0.2\n",
      "nohup python main.py --rs_type General --clear_checkpoints --saveID tau_0.2 --dataset mix_movie_book --model_name IntentCF --n_layers 2 --patience 20 --cuda 3 --no_wandb --train_norm --pred_norm --neg_sample 256 --tau 0.2 --infonce 1 &>logs/mix_movie_book_tau_0.2_IntentCF.log &\n",
      "tau: 0.05\n",
      "nohup python main.py --rs_type General --clear_checkpoints --saveID tau_0.05 --dataset mix_movie_book_game --model_name IntentCF --n_layers 2 --patience 20 --cuda 0 --no_wandb --train_norm --pred_norm --neg_sample 256 --tau 0.05 --infonce 1 &>logs/mix_movie_book_game_tau_0.05_IntentCF.log &\n",
      "tau: 0.1\n",
      "nohup python main.py --rs_type General --clear_checkpoints --saveID tau_0.1 --dataset mix_movie_book_game --model_name IntentCF --n_layers 2 --patience 20 --cuda 1 --no_wandb --train_norm --pred_norm --neg_sample 256 --tau 0.1 --infonce 1 &>logs/mix_movie_book_game_tau_0.1_IntentCF.log &\n",
      "tau: 0.15\n",
      "nohup python main.py --rs_type General --clear_checkpoints --saveID tau_0.15 --dataset mix_movie_book_game --model_name IntentCF --n_layers 2 --patience 20 --cuda 2 --no_wandb --train_norm --pred_norm --neg_sample 256 --tau 0.15 --infonce 1 &>logs/mix_movie_book_game_tau_0.15_IntentCF.log &\n",
      "tau: 0.2\n",
      "nohup python main.py --rs_type General --clear_checkpoints --saveID tau_0.2 --dataset mix_movie_book_game --model_name IntentCF --n_layers 2 --patience 20 --cuda 3 --no_wandb --train_norm --pred_norm --neg_sample 256 --tau 0.2 --infonce 1 &>logs/mix_movie_book_game_tau_0.2_IntentCF.log &\n"
     ]
    }
   ],
   "source": [
    "# dataset_list = ['ml-1m', 'amazon_book_2014', 'steam', 'mix_movie_book', 'mix_movie_book_game']\n",
    "dataset_list = ['ml-1m', 'amazon_movie', 'steam', 'mix_movie_book', 'mix_movie_book_game']\n",
    "# tau_list_ml1m = [0.17, 0.19, 0.21, 0.23]\n",
    "tau_list_ml1m = [0.10, 0.15, 0.2, 0.3]\n",
    "# tau_list_amazon = [0.09, 0.11, 0.12, 0.14]\n",
    "tau_list_amazon = [0.05, 0.11, 0.15, 0.2]\n",
    "tau_list_steam = [0.17, 0.19, 0.21, 0.23]\n",
    "tau_list_mix = [0.05, 0.1, 0.15, 0.2]\n",
    "tau_list_mix3 = [0.05, 0.1, 0.15, 0.2]\n",
    "\n",
    "tau_list = [tau_list_ml1m, tau_list_amazon, tau_list_steam, tau_list_mix, tau_list_mix3]\n",
    "\n",
    "# model_name = 'LIntCF'\n",
    "model_name = 'IntentCF'\n",
    "\n",
    "c = 0\n",
    "n_layer = 2\n",
    "for idx, dataset in enumerate(dataset_list):\n",
    "    tau_list_ = tau_list[idx]\n",
    "    cmds = []\n",
    "    for tau in tau_list_:\n",
    "        print('tau:', tau)\n",
    "        save_id = 'tau_' + str(tau)\n",
    "        log_name = dataset + '_' + save_id + '_' + model_name\n",
    "        filled_prompt = prompt.replace('<model_name>', model_name)\n",
    "        filled_prompt = filled_prompt.replace('<dataset_name>', dataset)\n",
    "        filled_prompt = filled_prompt.replace('<gpu>', str(c))\n",
    "        filled_prompt = filled_prompt.replace('<tau>', str(tau))\n",
    "        filled_prompt = filled_prompt.replace('<save_id>', save_id)\n",
    "        filled_prompt = filled_prompt.replace('<log_name>', log_name)\n",
    "        filled_prompt = filled_prompt.replace('<n_layer>', str(n_layer))\n",
    "        print(filled_prompt)\n",
    "        cmds.append(filled_prompt)\n",
    "        c += 1\n",
    "        c %= 4\n",
    "        with open(f\"training_cmd_{dataset}_{model_name}_n_{n_layer}.sh\", \"w\") as f:\n",
    "            for cmd in cmds:\n",
    "                f.write(cmd + \"\\n\")\n",
    "\n"
   ]
  },
  {
   "cell_type": "code",
   "execution_count": null,
   "metadata": {},
   "outputs": [],
   "source": []
  }
 ],
 "metadata": {
  "kernelspec": {
   "display_name": "sandbox",
   "language": "python",
   "name": "python3"
  },
  "language_info": {
   "codemirror_mode": {
    "name": "ipython",
    "version": 3
   },
   "file_extension": ".py",
   "mimetype": "text/x-python",
   "name": "python",
   "nbconvert_exporter": "python",
   "pygments_lexer": "ipython3",
   "version": "3.9.12"
  }
 },
 "nbformat": 4,
 "nbformat_minor": 2
}
