{
 "cells": [
  {
   "cell_type": "code",
   "execution_count": 1,
   "metadata": {},
   "outputs": [],
   "source": [
    "import json"
   ]
  },
  {
   "cell_type": "code",
   "execution_count": 8,
   "metadata": {},
   "outputs": [],
   "source": [
    "map_ = {'Yes.': '\\\"Yes.\\\"', 'No.': '\\\"No.\\\"'}"
   ]
  },
  {
   "cell_type": "code",
   "execution_count": 17,
   "metadata": {},
   "outputs": [],
   "source": [
    "dataset_name = 'tallrec_movie'\n",
    "with open(f'{dataset_name}/train.json', 'r') as f:\n",
    "    train = json.load(f)\n",
    "with open(f'{dataset_name}/valid.json', 'r') as f:\n",
    "    valid = json.load(f)\n",
    "with open(f'{dataset_name}/test.json', 'r') as f:\n",
    "    test = json.load(f)"
   ]
  },
  {
   "cell_type": "code",
   "execution_count": 18,
   "metadata": {},
   "outputs": [
    {
     "data": {
      "text/plain": [
       "8000"
      ]
     },
     "execution_count": 18,
     "metadata": {},
     "output_type": "execute_result"
    }
   ],
   "source": [
    "len(train)"
   ]
  },
  {
   "cell_type": "code",
   "execution_count": 19,
   "metadata": {},
   "outputs": [],
   "source": [
    "for d in train:\n",
    "    d['output'] = map_[d['output']]\n",
    "for d in valid:\n",
    "    d['output'] = map_[d['output']]\n",
    "for d in test:\n",
    "    d['output'] = map_[d['output']]"
   ]
  },
  {
   "cell_type": "code",
   "execution_count": 20,
   "metadata": {},
   "outputs": [],
   "source": [
    "# 保存\n",
    "with open(f'{dataset_name}/train.json', 'w') as f:\n",
    "    json.dump(train, f, indent=4)\n",
    "with open(f'{dataset_name}/valid.json', 'w') as f:\n",
    "    json.dump(valid, f, indent=4)\n",
    "with open(f'{dataset_name}/test.json', 'w') as f:\n",
    "    json.dump(test, f, indent=4)\n"
   ]
  },
  {
   "cell_type": "code",
   "execution_count": null,
   "metadata": {},
   "outputs": [],
   "source": []
  }
 ],
 "metadata": {
  "kernelspec": {
   "display_name": "recint",
   "language": "python",
   "name": "python3"
  },
  "language_info": {
   "codemirror_mode": {
    "name": "ipython",
    "version": 3
   },
   "file_extension": ".py",
   "mimetype": "text/x-python",
   "name": "python",
   "nbconvert_exporter": "python",
   "pygments_lexer": "ipython3",
   "version": "3.11.4"
  }
 },
 "nbformat": 4,
 "nbformat_minor": 2
}
