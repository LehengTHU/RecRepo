{
 "cells": [
  {
   "cell_type": "markdown",
   "metadata": {},
   "source": [
    "# model\n",
    "rank1  Salesforce/SFR-Embedding-Mistral   ---right pad  (14344, 4096)\n",
    "\n",
    "rank3 GritLM/GritLM-7B                    ---left pad ((14344, 4096))\n",
    "\n",
    "rank4 intfloat/e5-mistral-7b-instruct     ---left pad   (14344, 4096)\n",
    "\n",
    "rank8 jspringer/echo-mistral-7b-instruct-lasttoken (14344, 4096)"
   ]
  },
  {
   "cell_type": "code",
   "execution_count": 1,
   "metadata": {},
   "outputs": [],
   "source": [
    "import numpy as np\n",
    "import os\n",
    "import os.path as op\n",
    "# model_path = \"jspringer/echo-mistral-7b-instruct-lasttoken\"\n",
    "\n",
    "\n",
    "\n"
   ]
  },
  {
   "cell_type": "code",
   "execution_count": 4,
   "metadata": {},
   "outputs": [],
   "source": [
    "# save_path = 'item_info'\n",
    "# embeds_name = model_path.split('/')[-1]\n",
    "# embeds_name = \"item_cf_embeds_\" + embeds_name + \"_array.npy\"\n",
    "# data = np.load(op.join(save_path, embeds_name))\n",
    "# norms = np.linalg.norm(data, ord=2, axis=1, keepdims=True)\n",
    "# normalized_data = data / norms\n",
    "# normalized_data\n",
    "# squared_sums = np.sum(normalized_data**2, axis=1)\n",
    "# normalized_data.shape\n"
   ]
  },
  {
   "cell_type": "code",
   "execution_count": 5,
   "metadata": {},
   "outputs": [],
   "source": [
    "# embeds_name = model_path.split('/')[-1]\n",
    "# embeds_name = \"item_cf_embeds_Norm_\" + embeds_name + \"_array.npy\"\n",
    "# np.save(op.join(save_path, embeds_name), normalized_data)"
   ]
  },
  {
   "cell_type": "code",
   "execution_count": 1,
   "metadata": {},
   "outputs": [
    {
     "name": "stderr",
     "output_type": "stream",
     "text": [
      "/storage/lhsheng/miniconda3/envs/recint/lib/python3.11/site-packages/tqdm/auto.py:21: TqdmWarning: IProgress not found. Please update jupyter and ipywidgets. See https://ipywidgets.readthedocs.io/en/stable/user_install.html\n",
      "  from .autonotebook import tqdm as notebook_tqdm\n"
     ]
    },
    {
     "name": "stdout",
     "output_type": "stream",
     "text": [
      "/storage_fast/lhsheng/huggingface_data/\n"
     ]
    }
   ],
   "source": [
    "import pandas as pd\n",
    "import torch\n",
    "import torch.nn.functional as F\n",
    "from torch import Tensor\n",
    "import numpy as np\n",
    "import os\n",
    "import os.path as op\n",
    "from tqdm import tqdm\n",
    "\n",
    "# Load model directly\n",
    "from transformers import AutoTokenizer, AutoModelForCausalLM,AutoModel\n",
    "\n",
    "print(os.environ[\"HF_HOME\"])\n",
    "# print(os.environ[\"HF_HUB_CACHE\"])\n",
    "\n",
    "\n",
    "os.environ[\"CUDA_VISIBLE_DEVICES\"] = \"0,1,2,3\""
   ]
  },
  {
   "cell_type": "code",
   "execution_count": 2,
   "metadata": {},
   "outputs": [
    {
     "name": "stderr",
     "output_type": "stream",
     "text": [
      "Loading checkpoint shards: 100%|██████████| 2/2 [00:04<00:00,  2.24s/it]\n"
     ]
    }
   ],
   "source": [
    "model_path = \"mistralai/Mistral-7B-v0.1\"\n",
    "tokenizer = AutoTokenizer.from_pretrained(model_path)\n",
    "model = AutoModel.from_pretrained(model_path, device_map = 'auto')\n",
    "if tokenizer.pad_token is None:\n",
    "    tokenizer.pad_token = tokenizer.eos_token\n",
    "for param in model.parameters():\n",
    "    param.requires_grad = False\n",
    "# tokenizer.padding_side = \"left\"\n",
    "# tokenizer.pad_token = tokenizer.eos_token\n"
   ]
  },
  {
   "cell_type": "code",
   "execution_count": 3,
   "metadata": {},
   "outputs": [
    {
     "data": {
      "text/html": [
       "<div>\n",
       "<style scoped>\n",
       "    .dataframe tbody tr th:only-of-type {\n",
       "        vertical-align: middle;\n",
       "    }\n",
       "\n",
       "    .dataframe tbody tr th {\n",
       "        vertical-align: top;\n",
       "    }\n",
       "\n",
       "    .dataframe thead th {\n",
       "        text-align: right;\n",
       "    }\n",
       "</style>\n",
       "<table border=\"1\" class=\"dataframe\">\n",
       "  <thead>\n",
       "    <tr style=\"text-align: right;\">\n",
       "      <th></th>\n",
       "      <th>item_id</th>\n",
       "      <th>item_name</th>\n",
       "    </tr>\n",
       "  </thead>\n",
       "  <tbody>\n",
       "    <tr>\n",
       "      <th>0</th>\n",
       "      <td>0</td>\n",
       "      <td>The Prophet</td>\n",
       "    </tr>\n",
       "    <tr>\n",
       "      <th>1</th>\n",
       "      <td>1</td>\n",
       "      <td>Water For Elephants</td>\n",
       "    </tr>\n",
       "    <tr>\n",
       "      <th>2</th>\n",
       "      <td>2</td>\n",
       "      <td>For Whom the Bell Tolls</td>\n",
       "    </tr>\n",
       "    <tr>\n",
       "      <th>3</th>\n",
       "      <td>3</td>\n",
       "      <td>City of Djinns: A Year in Delhi</td>\n",
       "    </tr>\n",
       "    <tr>\n",
       "      <th>4</th>\n",
       "      <td>4</td>\n",
       "      <td>The Winds of War</td>\n",
       "    </tr>\n",
       "    <tr>\n",
       "      <th>...</th>\n",
       "      <td>...</td>\n",
       "      <td>...</td>\n",
       "    </tr>\n",
       "    <tr>\n",
       "      <th>40518</th>\n",
       "      <td>40518</td>\n",
       "      <td>Thumbprint</td>\n",
       "    </tr>\n",
       "    <tr>\n",
       "      <th>40519</th>\n",
       "      <td>40519</td>\n",
       "      <td>Going Nowhere Fast</td>\n",
       "    </tr>\n",
       "    <tr>\n",
       "      <th>40520</th>\n",
       "      <td>40520</td>\n",
       "      <td>In for a Penny (Five Star Mystery Series)</td>\n",
       "    </tr>\n",
       "    <tr>\n",
       "      <th>40521</th>\n",
       "      <td>40521</td>\n",
       "      <td>Dead Man Falling</td>\n",
       "    </tr>\n",
       "    <tr>\n",
       "      <th>40522</th>\n",
       "      <td>40522</td>\n",
       "      <td>On Which Side of the Road Do the Flowers Grow</td>\n",
       "    </tr>\n",
       "  </tbody>\n",
       "</table>\n",
       "<p>40523 rows × 2 columns</p>\n",
       "</div>"
      ],
      "text/plain": [
       "       item_id                                      item_name\n",
       "0            0                                    The Prophet\n",
       "1            1                            Water For Elephants\n",
       "2            2                        For Whom the Bell Tolls\n",
       "3            3                City of Djinns: A Year in Delhi\n",
       "4            4                               The Winds of War\n",
       "...        ...                                            ...\n",
       "40518    40518                                     Thumbprint\n",
       "40519    40519                             Going Nowhere Fast\n",
       "40520    40520      In for a Penny (Five Star Mystery Series)\n",
       "40521    40521                               Dead Man Falling\n",
       "40522    40522  On Which Side of the Road Do the Flowers Grow\n",
       "\n",
       "[40523 rows x 2 columns]"
      ]
     },
     "execution_count": 3,
     "metadata": {},
     "output_type": "execute_result"
    }
   ],
   "source": [
    "\n",
    "item_df = pd.read_csv('raw_data/items_filtered.csv', index_col=0)\n",
    "item_df.rename(columns={'title': 'item_name'}, inplace=True)\n",
    "item_df"
   ]
  },
  {
   "cell_type": "code",
   "execution_count": 4,
   "metadata": {},
   "outputs": [
    {
     "name": "stderr",
     "output_type": "stream",
     "text": [
      "  0%|          | 0/634 [00:00<?, ?it/s]"
     ]
    },
    {
     "name": "stderr",
     "output_type": "stream",
     "text": [
      "100%|██████████| 634/634 [24:55<00:00,  2.36s/it]\n"
     ]
    }
   ],
   "source": [
    "def last_token_pool(last_hidden_states: Tensor,\n",
    "                 attention_mask: Tensor) -> Tensor:\n",
    "    left_padding = (attention_mask[:, -1].sum() == attention_mask.shape[0])\n",
    "    if left_padding:# 向左边填充了所有的值。\n",
    "        return last_hidden_states[:, -1]\n",
    "    else:\n",
    "        sequence_lengths = attention_mask.sum(dim=1) - 1\n",
    "        batch_size = last_hidden_states.shape[0]\n",
    "        return last_hidden_states[torch.arange(batch_size, device=last_hidden_states.device), sequence_lengths]\n",
    "batch_size = 64\n",
    "max_length = 128\n",
    "\n",
    "for i in tqdm(range(0,len(item_df),batch_size)):\n",
    "    item_names = item_df['item_name'][i:i+batch_size]\n",
    "    # 生成输出\n",
    "    batch_dict = tokenizer(item_names.tolist(), max_length=max_length, padding=True, truncation=True, return_tensors=\"pt\").to(model.device)\n",
    "    with torch.no_grad():\n",
    "        outputs = model(**batch_dict)\n",
    "    embeddings = last_token_pool(outputs.last_hidden_state, batch_dict['attention_mask'])\n",
    "    embeddings = embeddings.detach().cpu().numpy()\n",
    "    if i == 0:\n",
    "        item_embeds = embeddings\n",
    "    else:\n",
    "        item_embeds = np.concatenate((item_embeds, embeddings), axis=0)\n",
    "\n",
    "\n"
   ]
  },
  {
   "cell_type": "code",
   "execution_count": 5,
   "metadata": {},
   "outputs": [
    {
     "data": {
      "text/plain": [
       "('item_cf_embeds_Mistral-7B-v0.1_array.npy',\n",
       " (40523, 4096),\n",
       " 'item_info/item_cf_embeds_Mistral-7B-v0.1_array.npy')"
      ]
     },
     "execution_count": 5,
     "metadata": {},
     "output_type": "execute_result"
    }
   ],
   "source": [
    "save_path = 'item_info'\n",
    "embeds_name = model_path.split('/')[-1]\n",
    "embeds_name = \"item_cf_embeds_\" + embeds_name + \"_array.npy\"\n",
    "embeds_name, item_embeds.shape, op.join(save_path, embeds_name)"
   ]
  },
  {
   "cell_type": "code",
   "execution_count": 6,
   "metadata": {},
   "outputs": [],
   "source": [
    "\n",
    "np.save(op.join(save_path, embeds_name),item_embeds)"
   ]
  },
  {
   "cell_type": "code",
   "execution_count": 7,
   "metadata": {},
   "outputs": [
    {
     "data": {
      "text/plain": [
       "array([0.9999999 , 1.        , 1.        , ..., 0.99999994, 0.99999994,\n",
       "       0.99999994], dtype=float32)"
      ]
     },
     "execution_count": 7,
     "metadata": {},
     "output_type": "execute_result"
    }
   ],
   "source": [
    "save_path = 'item_info'\n",
    "embeds_name = model_path.split('/')[-1]\n",
    "embeds_name = \"item_cf_embeds_\" + embeds_name + \"_array.npy\"\n",
    "data = np.load(op.join(save_path, embeds_name))\n",
    "norms = np.linalg.norm(data, ord=2, axis=1, keepdims=True)\n",
    "normalized_data = data / norms\n",
    "normalized_data\n",
    "squared_sums = np.sum(normalized_data**2, axis=1)\n",
    "squared_sums"
   ]
  },
  {
   "cell_type": "code",
   "execution_count": 8,
   "metadata": {},
   "outputs": [
    {
     "ename": "",
     "evalue": "",
     "output_type": "error",
     "traceback": [
      "\u001b[1;31m在当前单元格或上一个单元格中执行代码时 Kernel 崩溃。\n",
      "\u001b[1;31m请查看单元格中的代码，以确定故障的可能原因。\n",
      "\u001b[1;31m单击<a href='https://aka.ms/vscodeJupyterKernelCrash'>此处</a>了解详细信息。\n",
      "\u001b[1;31m有关更多详细信息，请查看 Jupyter <a href='command:jupyter.viewOutput'>log</a>。"
     ]
    }
   ],
   "source": [
    "embeds_name = model_path.split('/')[-1]\n",
    "embeds_name = \"item_cf_embeds_Norm_\" + embeds_name + \"_array.npy\"\n",
    "np.save(op.join(save_path, embeds_name), normalized_data)"
   ]
  },
  {
   "cell_type": "code",
   "execution_count": null,
   "metadata": {},
   "outputs": [],
   "source": []
  }
 ],
 "metadata": {
  "kernelspec": {
   "display_name": "recint",
   "language": "python",
   "name": "python3"
  },
  "language_info": {
   "codemirror_mode": {
    "name": "ipython",
    "version": 3
   },
   "file_extension": ".py",
   "mimetype": "text/x-python",
   "name": "python",
   "nbconvert_exporter": "python",
   "pygments_lexer": "ipython3",
   "version": "3.11.4"
  }
 },
 "nbformat": 4,
 "nbformat_minor": 2
}
