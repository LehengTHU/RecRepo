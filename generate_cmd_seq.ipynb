{
 "cells": [
  {
   "cell_type": "code",
   "execution_count": 3,
   "metadata": {},
   "outputs": [
    {
     "name": "stdout",
     "output_type": "stream",
     "text": [
      "nohup python main.py --saveID  test_cmd --cuda 0 --model_name SASRec --dataset rr --batch_size 128 --lr 0.001 &> logs/test_cmd_SASRec_rr_128_0_0.001.log &\n",
      "nohup python main.py --saveID  test_cmd --cuda 1 --model_name SASRec --dataset rr --batch_size 256 --lr 0.001 &> logs/test_cmd_SASRec_rr_256_1_0.001.log &\n",
      "nohup python main.py --saveID  test_cmd --cuda 2 --model_name SASRec --dataset rr --batch_size 512 --lr 0.001 &> logs/test_cmd_SASRec_rr_512_2_0.001.log &\n",
      "nohup python main.py --saveID  test_cmd --cuda 3 --model_name SASRec --dataset rr --batch_size 512 --lr 0.0005 &> logs/test_cmd_SASRec_rr_512_3_0.0005.log &\n"
     ]
    }
   ],
   "source": [
    "# SASRec\n",
    "prompt = \"nohup python main.py --saveID  <yourID> --cuda <c> --rs_type Seq --model_name SASRec --dataset <d> --batch_size <bc> --lr <lr> &> logs/<yourID>_SASRec_<d>_<bc>_<c>_<lr>.log &\"\n",
    "\n",
    "dataset = 'rr' # change here\n",
    "save_id = 'test_cmd'\n",
    "\n",
    "cmds = []\n",
    "\n",
    "n_cuda = 0\n",
    "\n",
    "for b in [128, 256, 512]:\n",
    "    for lr in [0.001]:\n",
    "        # save_id = str(i) + '_' + str(e) + '_' + str(save_id)\n",
    "        filled_prompt = prompt.replace('<yourID>', str(save_id))\n",
    "        filled_prompt = filled_prompt.replace('<c>', str(n_cuda))\n",
    "        filled_prompt = filled_prompt.replace('<d>', dataset)\n",
    "        filled_prompt = filled_prompt.replace('<bc>', str(b))\n",
    "        filled_prompt = filled_prompt.replace('<lr>', str(lr))\n",
    "\n",
    "        n_cuda += 1\n",
    "        n_cuda %= 4\n",
    "        print(filled_prompt)\n",
    "        cmds.append(filled_prompt)\n",
    "\n",
    "for b in [512]:\n",
    "    for lr in [0.0005]:\n",
    "        filled_prompt = prompt.replace('<yourID>', str(save_id))\n",
    "        filled_prompt = filled_prompt.replace('<c>', str(n_cuda))\n",
    "        filled_prompt = filled_prompt.replace('<d>', dataset)\n",
    "        filled_prompt = filled_prompt.replace('<bc>', str(b))\n",
    "        filled_prompt = filled_prompt.replace('<lr>', str(lr))\n",
    "\n",
    "        n_cuda += 1\n",
    "        n_cuda %= 4\n",
    "        print(filled_prompt)\n",
    "        cmds.append(filled_prompt)\n",
    "\n",
    "\n",
    "with open(\"training.sh\", \"w\") as f:\n",
    "    for cmd in cmds:\n",
    "        f.write(cmd + \"\\n\")"
   ]
  },
  {
   "cell_type": "code",
   "execution_count": 1,
   "metadata": {},
   "outputs": [
    {
     "name": "stdout",
     "output_type": "stream",
     "text": [
      "nohup python main.py --saveID  test_cmd --cuda 0 --model_name GRU4Rec --dataset ks --batch_size 128 --lr 0.001 &> logs/test_cmd_GRU4Rec_ks_128_0_0.001.log &\n",
      "nohup python main.py --saveID  test_cmd --cuda 1 --model_name GRU4Rec --dataset ks --batch_size 256 --lr 0.001 &> logs/test_cmd_GRU4Rec_ks_256_1_0.001.log &\n",
      "nohup python main.py --saveID  test_cmd --cuda 2 --model_name GRU4Rec --dataset ks --batch_size 512 --lr 0.001 &> logs/test_cmd_GRU4Rec_ks_512_2_0.001.log &\n",
      "nohup python main.py --saveID  test_cmd --cuda 3 --model_name GRU4Rec --dataset ks --batch_size 512 --lr 0.0005 &> logs/test_cmd_GRU4Rec_ks_512_3_0.0005.log &\n"
     ]
    }
   ],
   "source": [
    "# GRU4Rec\n",
    "prompt = \"nohup python main.py --saveID  <yourID> --cuda <c> --rs_type Seq --model_name GRU4Rec --dataset <d> --batch_size <bc> --lr <lr> &> logs/<yourID>_GRU4Rec_<d>_<bc>_<c>_<lr>.log &\"\n",
    "\n",
    "dataset = 'ks' # change here\n",
    "save_id = 'test_cmd'\n",
    "\n",
    "cmds = []\n",
    "\n",
    "n_cuda = 0\n",
    "\n",
    "for b in [128, 256, 512]:\n",
    "    for lr in [0.001]:\n",
    "        # save_id = str(i) + '_' + str(e) + '_' + str(save_id)\n",
    "        filled_prompt = prompt.replace('<yourID>', str(save_id))\n",
    "        filled_prompt = filled_prompt.replace('<c>', str(n_cuda))\n",
    "        filled_prompt = filled_prompt.replace('<d>', dataset)\n",
    "        filled_prompt = filled_prompt.replace('<bc>', str(b))\n",
    "        filled_prompt = filled_prompt.replace('<lr>', str(lr))\n",
    "\n",
    "        n_cuda += 1\n",
    "        n_cuda %= 4\n",
    "        print(filled_prompt)\n",
    "        cmds.append(filled_prompt)\n",
    "\n",
    "for b in [512]:\n",
    "    for lr in [0.0005]:\n",
    "        filled_prompt = prompt.replace('<yourID>', str(save_id))\n",
    "        filled_prompt = filled_prompt.replace('<c>', str(n_cuda))\n",
    "        filled_prompt = filled_prompt.replace('<d>', dataset)\n",
    "        filled_prompt = filled_prompt.replace('<bc>', str(b))\n",
    "        filled_prompt = filled_prompt.replace('<lr>', str(lr))\n",
    "\n",
    "        n_cuda += 1\n",
    "        n_cuda %= 4\n",
    "        print(filled_prompt)\n",
    "        cmds.append(filled_prompt)\n",
    "\n",
    "\n",
    "with open(\"training.sh\", \"w\") as f:\n",
    "    for cmd in cmds:\n",
    "        f.write(cmd + \"\\n\")"
   ]
  },
  {
   "cell_type": "code",
   "execution_count": 3,
   "metadata": {},
   "outputs": [
    {
     "name": "stdout",
     "output_type": "stream",
     "text": [
      "nohup python main.py --saveID  test_cmd --cuda 0 --rs_type Seq --model_name Caser --dataset ks --batch_size 128 --lr 0.001 &> logs/test_cmd_Caser_ks_128_0_0.001.log &\n",
      "nohup python main.py --saveID  test_cmd --cuda 1 --rs_type Seq --model_name Caser --dataset ks --batch_size 256 --lr 0.001 &> logs/test_cmd_Caser_ks_256_1_0.001.log &\n",
      "nohup python main.py --saveID  test_cmd --cuda 2 --rs_type Seq --model_name Caser --dataset ks --batch_size 512 --lr 0.001 &> logs/test_cmd_Caser_ks_512_2_0.001.log &\n",
      "nohup python main.py --saveID  test_cmd --cuda 3 --rs_type Seq --model_name Caser --dataset ks --batch_size 512 --lr 0.0005 &> logs/test_cmd_Caser_ks_512_3_0.0005.log &\n"
     ]
    }
   ],
   "source": [
    "# Caser\n",
    "prompt = \"nohup python main.py --saveID  <yourID> --cuda <c> --rs_type Seq --model_name Caser --dataset <d> --batch_size <bc> --lr <lr> &> logs/<yourID>_Caser_<d>_<bc>_<c>_<lr>.log &\"\n",
    "\n",
    "dataset = 'ks' # change here\n",
    "save_id = 'test_cmd'\n",
    "\n",
    "cmds = []\n",
    "\n",
    "n_cuda = 0\n",
    "\n",
    "for b in [128, 256, 512]:\n",
    "    for lr in [0.001]:\n",
    "        # save_id = str(i) + '_' + str(e) + '_' + str(save_id)\n",
    "        filled_prompt = prompt.replace('<yourID>', str(save_id))\n",
    "        filled_prompt = filled_prompt.replace('<c>', str(n_cuda))\n",
    "        filled_prompt = filled_prompt.replace('<d>', dataset)\n",
    "        filled_prompt = filled_prompt.replace('<bc>', str(b))\n",
    "        filled_prompt = filled_prompt.replace('<lr>', str(lr))\n",
    "\n",
    "        n_cuda += 1\n",
    "        n_cuda %= 4\n",
    "        print(filled_prompt)\n",
    "        cmds.append(filled_prompt)\n",
    "\n",
    "for b in [512]:\n",
    "    for lr in [0.0005]:\n",
    "        filled_prompt = prompt.replace('<yourID>', str(save_id))\n",
    "        filled_prompt = filled_prompt.replace('<c>', str(n_cuda))\n",
    "        filled_prompt = filled_prompt.replace('<d>', dataset)\n",
    "        filled_prompt = filled_prompt.replace('<bc>', str(b))\n",
    "        filled_prompt = filled_prompt.replace('<lr>', str(lr))\n",
    "\n",
    "        n_cuda += 1\n",
    "        n_cuda %= 4\n",
    "        print(filled_prompt)\n",
    "        cmds.append(filled_prompt)\n",
    "\n",
    "\n",
    "with open(\"training.sh\", \"w\") as f:\n",
    "    for cmd in cmds:\n",
    "        f.write(cmd + \"\\n\")"
   ]
  },
  {
   "cell_type": "code",
   "execution_count": null,
   "metadata": {},
   "outputs": [],
   "source": []
  }
 ],
 "metadata": {
  "kernelspec": {
   "display_name": "tuning",
   "language": "python",
   "name": "python3"
  },
  "language_info": {
   "codemirror_mode": {
    "name": "ipython",
    "version": 3
   },
   "file_extension": ".py",
   "mimetype": "text/x-python",
   "name": "python",
   "nbconvert_exporter": "python",
   "pygments_lexer": "ipython3",
   "version": "3.11.4"
  }
 },
 "nbformat": 4,
 "nbformat_minor": 2
}
